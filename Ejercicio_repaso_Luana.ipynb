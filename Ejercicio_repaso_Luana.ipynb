{
 "cells": [
  {
   "cell_type": "code",
   "execution_count": null,
   "metadata": {},
   "outputs": [],
   "source": []
  },
  {
   "cell_type": "markdown",
   "metadata": {},
   "source": [
    "\n",
    "# MÓDULO 2: DOMINA EL ARTE DE EXTRAER INFORMACIÓN VALIOSA\n",
    "Lecciones\n",
    "Proyecto: Proyecto CinemExtract: Explorando el Séptimo Arte a través de Datos y Tecnología\n",
    "Repasos\n",
    "Repaso Extracción de Datos (Beautiful Soup, Selenium y API's)\n",
    "Powered by GitBook\n",
    "Repaso Extracción de Datos (Beautiful Soup, Selenium y API's)\n",
    "Descripción del Ejercicio:\n",
    "En este ejercicio de repaso, usaremos la API Books API de Google y también utilizaremos Selenium para realizar scraping de datos desde una página web de una tienda en línea de libros para obtener información adicional. El objetivo es recopilar información detallada sobre libros de Stephen King y crear una base de datos local para almacenarlos.\n",
    "\n",
    "Pasos a Seguir:\n",
    "Consulta de Datos de Libros (API Books API - Google Books):\n",
    "\n",
    "Utiliza la API Books API para buscar libros de Stephen King. Aquí el link a su documentación.\n",
    "\n",
    "Realiza una solicitud a la API y almacena los datos de los libros de Stephen King’s.\n",
    "\n",
    "Scraping de Datos de Libros (Selenium - Book Center):\n",
    "\n",
    "Utiliza la biblioteca Selenium para automatizar la navegación en la página web de Book Center, una tienda en línea de libros.\n",
    "\n",
    "Realiza búsquedas de libros en el sitio web y navega por las páginas de resultados.\n",
    "\n",
    "Extrae información detallada de los libros, como el precio (con y sin descuento si está disponible), editorial, año de edición y número de páginas.\n",
    "\n",
    "Almacena estos datos en una estructura de datos, como una lista de diccionarios.\n",
    "\n",
    "Creación de una Base de Datos Local:\n",
    "\n",
    "Diseña una BBDD para almacenar la información de los libros.\n",
    "\n",
    "Recursos:\n",
    "Página web para el scraping de datos: Book Center.\n",
    "\n",
    "API: Books API para obtener datos adicionales de los libros."
   ]
  },
  {
   "cell_type": "code",
   "execution_count": null,
   "metadata": {},
   "outputs": [],
   "source": [
    "https://api.nytimes.com/svc/books/v3/reviews.json?author=Stephen+King&api-key=G4Jh1rFZVbTYhs68oOLrneSB68w8GAGm"
   ]
  }
 ],
 "metadata": {
  "language_info": {
   "name": "python"
  }
 },
 "nbformat": 4,
 "nbformat_minor": 2
}
