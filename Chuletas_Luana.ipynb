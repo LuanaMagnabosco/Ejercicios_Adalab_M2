{
 "cells": [
  {
   "cell_type": "markdown",
   "metadata": {},
   "source": [
    "# CHULETAS\n",
    "# APIs"
   ]
  },
  {
   "cell_type": "code",
   "execution_count": 8,
   "metadata": {},
   "outputs": [],
   "source": [
    "# importamos las librerías que necesitamos\n",
    "\n",
    "# Tratamiento de datos\n",
    "# -----------------------------------------------------------------------\n",
    "import pandas as pd\n",
    "\n",
    "# Uso de API's\n",
    "# -----------------------------------------------------------------------\n",
    "import requests\n",
    "\n",
    "# Importar librerías para procesamiento de texto\n",
    "# -----------------------------------------------------------------------\n",
    "import re\n",
    "\n",
    "# Configuración\n",
    "# -----------------------------------------------------------------------\n",
    "pd.set_option('display.max_columns', None) # para poder visualizar todas las columnas de los DataFrames"
   ]
  },
  {
   "cell_type": "code",
   "execution_count": null,
   "metadata": {},
   "outputs": [],
   "source": [
    "def llamar_api(url):\n",
    "    \"\"\"\n",
    "    Realiza una llamada a una API utilizando la URL proporcionada.\n",
    "\n",
    "    Parameters:\n",
    "    -----------\n",
    "    url (str): La URL de la API que se va a llamar.\n",
    "\n",
    "    Returns:\n",
    "    --------\n",
    "    dict or None: Un diccionario con los datos de respuesta de la API si la llamada fue exitosa (código de estado 200).\n",
    "                  None si la llamada falló o no se pudo autenticar correctamente.\n",
    "    \"\"\"\n",
    "    llamada = requests.get(url)  # Realiza una solicitud GET a la URL proporcionada y almacena la respuesta en 'llamada'.\n",
    "\n",
    "    print(f\"La llamada a la API nos ha dado una respuesta de tipo: {llamada.status_code}\")  # Imprime el código de estado de la respuesta.\n",
    "\n",
    "    if llamada.status_code != 200:  # Comprueba si la respuesta no fue exitosa (código de estado distinto de 200).\n",
    "        print(f\"El motivo por el que la llamada falló es {llamada.reason}\")  # Imprime la razón de la falla.\n",
    "    else:\n",
    "        return llamada.json()  # Si la llamada fue exitosa, devuelve los datos de respuesta en formato JSON.\n"
   ]
  },
  {
   "cell_type": "markdown",
   "metadata": {},
   "source": [
    "# BEAUTIFUL SOUP"
   ]
  },
  {
   "cell_type": "code",
   "execution_count": 2,
   "metadata": {},
   "outputs": [],
   "source": [
    "# antes de empezar importamos las librerías que vamos a usar. \n",
    "# Importar librerías para web scraping y manipulación de datos\n",
    "# -----------------------------------------------------------------------\n",
    "from bs4 import BeautifulSoup\n",
    "import requests\n",
    "\n",
    "# Importar librerías para manipulación y análisis de datos\n",
    "# -----------------------------------------------------------------------\n",
    "import pandas as pd\n",
    "\n",
    "# Importar librerías para procesamiento de texto\n",
    "# -----------------------------------------------------------------------\n",
    "import re\n"
   ]
  },
  {
   "cell_type": "code",
   "execution_count": 3,
   "metadata": {},
   "outputs": [
    {
     "name": "stdout",
     "output_type": "stream",
     "text": [
      "La respuesta de la petición es: 200\n"
     ]
    }
   ],
   "source": [
    "# definimos la url de la página de la vamos a sacar datos\n",
    "#ejemplo\n",
    "url_moviles = \"https://www.ebay.es/e/campanas/moviles-y-telefonia/moviles-y-smartphones/9355\"\n",
    "\n",
    "# hacemos la request a la página de la que queremos sacar la info\n",
    "res_moviles = requests.get(url_moviles)\n",
    "\n",
    "# vemos si todo ha ido bien\n",
    "print(\"La respuesta de la petición es:\", res_moviles.status_code)"
   ]
  },
  {
   "cell_type": "code",
   "execution_count": null,
   "metadata": {},
   "outputs": [],
   "source": [
    "# creamos el objeto BeautifulSoup para poder acceder al contenido solicitado\n",
    "sopa_moviles = BeautifulSoup(res_moviles.content, 'html.parser')\n",
    "\n",
    "# mostramos por pantalla los resultados del objeto de Beautiful Soup. El método \".prettify()\" nos ayuda a visualizar los resultados de una forma más amigable\n",
    "print(sopa_moviles.prettify())"
   ]
  },
  {
   "cell_type": "code",
   "execution_count": null,
   "metadata": {},
   "outputs": [],
   "source": [
    "# sacamos los nombres de los moviles\n",
    "lista_nombre_producto = sopa_moviles.find_all(\"h3\", {\"class\": \"s-item__title\"})\n",
    "\n",
    "# mostramos los resultados del método \".find_all()\". Como dijimos al inicio este método nos va a devolver una lista\n",
    "# Si lo exploramos un poco veremos que tenemos una lista de elemento y que tiene muchas cosas, pero si nos fijamos bien tenemos todos los nombres de los teléfonos que tenemos en la página web\n",
    "print(\"El resultado del método '.find_all()' es: \\n\",   lista_nombre_producto)\n",
    "\n",
    "# es el momento de sacar la información útil del método que hemos usado previamente. Para eso lo primero que vamos a hacer es crearnos una lista donde iremos almacenado los resultados que queremos\n",
    "nombres_productos = []\n",
    "\n",
    "# dado que es una lista lo que vamos a hacer es iterar por la lista para poder acceder a cada uno de los elementos\n",
    "for i in lista_nombre_producto:\n",
    "    # utilizamos el método \".getText()\" para sacar el texto de cada uno de los elementos y lo apendeamos a la lista que hemos creado previamente. \n",
    "    nombres_productos.append(i.getText())\n",
    "\n",
    "print(\"\\n--------------------------\\n\")\n",
    "\n",
    "print(\"Los resultados de extraer el texto de cada uno de los elementos es:\\n\", nombres_productos)"
   ]
  },
  {
   "cell_type": "code",
   "execution_count": null,
   "metadata": {},
   "outputs": [],
   "source": [
    "# convertir el diccionario en DataFrame\n",
    "# usar el método pd.DataFrame(), que es uno de los métodos que más usaremos más a menudo durante estas lecciones\n",
    "# esta tabla la almacenaremos en una variable llamada \"df\"\n",
    "\n",
    "df = pd.DataFrame(todos_resultados_moviles)\n",
    "\n",
    "# utilizaremos el método .head() para mostrar las 5 primeras filas del dataframe generado en el paso anterior\n",
    "df.head()\n",
    "\n",
    "# si queremos sacar las últimas filas del dataframe usaremos el método .tail()\n",
    "df.tail()\n",
    "\n",
    "# ¿cuántas filas y columnas tenemos en el dataframe? usaremos el método .shape\n",
    "# fijaos que este método nos devuelve una tupla con dos elementos. \n",
    "# el PRIMERO de los elementos hace referencia al número de FILAS\n",
    "# el SEGUNDO de los elementos hace referencia al número de COLUMNAS\n",
    "df.shape\n",
    "\n",
    "# ¿cuáles son los tipos de datos que tenemos en cada columna?\n",
    "# para eso usaremos el método .dtypes\n",
    "# 📌 NOTA: en Pandas los strings son mostrados como tipo \"object\"\n",
    "df.dtypes\n",
    "\n",
    "# en Pandas tenemos un método que aglutina toda la información que hemos visto hasta ahora, \n",
    "# ese método es el \".info()\"\n",
    "df.info()\n",
    "\n",
    "# Pandas también nos permiten extraer los principales estadísticos de nuestro conjunto de datos. \n",
    "# usaremos el método \".describe()\"\n",
    "# es importante destacar que por defecto este método nos va a devolver los principales estadísticos de las variables de tipo numérico\n",
    "df.describe().T\n",
    "\n",
    "# si quisieramos saber cuales son los principales estadísticos de las variables categóricas tendremos que incluir un parámetro en el método \".describe()\"\n",
    "# este parámetro es el \"include\"\n",
    "df.describe(include = \"object\").T\n",
    "\n",
    "# nos puede interesar saber si tenemos valores nulos en nuestro conjunto de datos. \n",
    "# para eso tendremos que usar el método \".isnull()\" \n",
    "df.isnull().sum()\n",
    "\n",
    "df.duplicated().sum()\n",
    "\n",
    "df.duplicated(subset = \"precio\").sum()"
   ]
  },
  {
   "cell_type": "markdown",
   "metadata": {},
   "source": [
    "# SELENIUM"
   ]
  },
  {
   "cell_type": "code",
   "execution_count": 4,
   "metadata": {},
   "outputs": [],
   "source": [
    "# Importar librerías para tratamiento de datos\n",
    "# -----------------------------------------------------------------------\n",
    "import pandas as pd  # Pandas es una poderosa librería para manipulación y análisis de datos en Python.\n",
    "\n",
    "# Importar librerías para web scraping y manipulación de datos\n",
    "# -----------------------------------------------------------------------\n",
    "from bs4 import BeautifulSoup\n",
    "import requests\n",
    "\n",
    "# Importar librerías para automatización de navegadores web con Selenium\n",
    "# -----------------------------------------------------------------------\n",
    "from selenium import webdriver  # Selenium es una herramienta para automatizar la interacción con navegadores web.\n",
    "from webdriver_manager.chrome import ChromeDriverManager  # ChromeDriverManager gestiona la instalación del controlador de Chrome.\n",
    "from selenium.webdriver.common.keys import Keys  # Keys es útil para simular eventos de teclado en Selenium.\n",
    "from selenium.webdriver.support.ui import Select  # Select se utiliza para interactuar con elementos <select> en páginas web.\n",
    "\n",
    "# Importar librerías para pausar la ejecución\n",
    "# -----------------------------------------------------------------------\n",
    "from time import sleep  # Sleep se utiliza para pausar la ejecución del programa por un número de segundos.\n",
    "\n",
    "# Configuraciones\n",
    "# -----------------------------------------------------------------------\n",
    "pd.set_option('display.max_columns', None)  # Establece una opción de Pandas para mostrar todas las columnas de un DataFrame.\n"
   ]
  },
  {
   "cell_type": "code",
   "execution_count": null,
   "metadata": {},
   "outputs": [],
   "source": [
    "# Inicializa el navegador Chrome\n",
    "driver = webdriver.Chrome()\n",
    "\n",
    "# Navega a la página web \"http://www.adalab.es\"\n",
    "driver.get(\"http://www.adalab.es\")\n",
    "\n",
    "# Acepta las cookies haciendo clic en el elemento con el selector CSS \"#wt-cli-accept-all-btn\"\n",
    "driver.find_element(\"css selector\", \"#wt-cli-accept-all-btn\").click()\n",
    "\n",
    "# Espera durante 5 segundos (esto puede ser útil para permitir que la página cargue completamente)\n",
    "sleep(5)\n",
    "\n",
    "# Captura una captura de pantalla de la página web actual y la guarda como \"adalab.png\"\n",
    "driver.save_screenshot('adalab.png')\n",
    "\n",
    "# Cierra el navegador\n",
    "driver.close()"
   ]
  },
  {
   "cell_type": "code",
   "execution_count": null,
   "metadata": {},
   "outputs": [],
   "source": [
    "# Inicializa el navegador Chrome\n",
    "driver = webdriver.Chrome()\n",
    "\n",
    "# Navega a la página web \"http://www.adalab.es\"\n",
    "driver.get(\"http://www.adalab.es\")\n",
    "\n",
    "driver.maximize_window()\n",
    "\n",
    "sleep(2)\n",
    "# Acepta las cookies haciendo clic en el elemento con el selector CSS \"#wt-cli-accept-all-btn\"\n",
    "driver.find_element(\"css selector\", \"#wt-cli-accept-all-btn\").click()\n",
    "\n",
    "# Espera durante 5 segundos (esto puede ser útil para asegurarse de que la página se cargue completamente)\n",
    "sleep(5)\n",
    "\n",
    "# Busca un elemento en la página web que contenga el texto \"BLOG\" utilizando \"link text\" y hacemos click\n",
    "driver.find_element(\"link text\", 'BLOG').click()\n",
    "\n",
    "sleep(5)\n",
    "\n",
    "# entramos en el apartado de Sobre Data Analytics\n",
    "driver.find_element(\"link text\", 'Sobre Data Analytics').click()\n",
    "\n",
    "# cerramos el navegador\n",
    "driver.close()"
   ]
  },
  {
   "cell_type": "markdown",
   "metadata": {},
   "source": [
    "# PIPI INSTAL \n"
   ]
  },
  {
   "cell_type": "code",
   "execution_count": null,
   "metadata": {},
   "outputs": [],
   "source": [
    "#El comando pip install beautifulsoup4 se utiliza para instalar la biblioteca BeautifulSoup4 en tu entorno de Python. BeautifulSoup4 es una biblioteca popular de Python que se utiliza para extraer datos de HTML y XML de manera sencilla y eficiente. \n",
    "#Esta biblioteca facilita el análisis y la manipulación de datos web al proporcionar métodos poderosos para navegar y buscar elementos en documentos HTML/XML.\n",
    "\n",
    "pip install beautifulsoup4\n"
   ]
  },
  {
   "cell_type": "code",
   "execution_count": null,
   "metadata": {},
   "outputs": [],
   "source": [
    "#El comando pip install requests se utiliza para instalar la biblioteca requests en tu entorno de Python. \n",
    "#La biblioteca requests es una herramienta popular y sencilla de usar para realizar solicitudes HTTP en Python, lo que la hace ideal para interactuar con servicios web y realizar tareas de web scraping, entre otras cosas.\n",
    "\n",
    "pip install requests\n"
   ]
  },
  {
   "cell_type": "code",
   "execution_count": null,
   "metadata": {},
   "outputs": [],
   "source": [
    "#El comando pip install pandas se utiliza para instalar la biblioteca pandas en tu entorno de Python. \n",
    "#La biblioteca pandas es una poderosa herramienta de manipulación y análisis de datos en Python, ampliamente utilizada para trabajar con estructuras de datos tabulares y series temporales.\n",
    "\n",
    "pip install pandas\n",
    "\n"
   ]
  },
  {
   "cell_type": "code",
   "execution_count": null,
   "metadata": {},
   "outputs": [],
   "source": [
    "#puedes utilizar el comando \"pip show\" seguido del nombre del paquete. Este comando te proporcionará detalles sobre la versión instalada, la ubicación de los archivos y otra información relevante sobre el paquete."
   ]
  }
 ],
 "metadata": {
  "kernelspec": {
   "display_name": "Python 3",
   "language": "python",
   "name": "python3"
  },
  "language_info": {
   "codemirror_mode": {
    "name": "ipython",
    "version": 3
   },
   "file_extension": ".py",
   "mimetype": "text/x-python",
   "name": "python",
   "nbconvert_exporter": "python",
   "pygments_lexer": "ipython3",
   "version": "3.12.2"
  }
 },
 "nbformat": 4,
 "nbformat_minor": 2
}
