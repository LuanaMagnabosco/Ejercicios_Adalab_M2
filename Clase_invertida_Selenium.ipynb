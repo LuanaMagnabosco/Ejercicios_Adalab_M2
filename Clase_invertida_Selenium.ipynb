{
 "cells": [
  {
   "cell_type": "markdown",
   "metadata": {},
   "source": [
    "# Ejercicios\n",
    "Escribe un script en Python utilizando Selenium que realice las siguientes tareas en la página web del Decathlon:\n",
    "\n",
    "1. Abra una el navegador y maximice la ventana.\n",
    "\n",
    "2. Acceda al sitio web de Decathlon en la URL \"https://www.decathlon.es/\".\n",
    "\n",
    "3. Haga clic en el botón \"Aceptar\" en la notificación de cookies utilizando su selector CSS.\n",
    "\n",
    "4. Solicite al usuario que ingrese una búsqueda (por ejemplo, un producto deportivo) mediante una entrada de texto.\n",
    "\n",
    "5. Utilice el texto ingresado para buscar productos en el sitio web de Decathlon y presione la tecla \"Enter\" para iniciar la búsqueda.\n",
    "\n",
    "6. Inicialice un diccionario llamado `diccionario_resultados` con tres listas vacías: \"nombre\", \"precio\" y \"puntuación\".\n",
    "\n",
    "7. Itere sobre los primeros 5 resultados de la búsqueda y realice las siguientes acciones:\n",
    "\n",
    "    a. Haga clic en un resultado específico.\n",
    "    b. Recopile el nombre del producto, el precio y la puntuación del producto y almacénelos en las listas correspondientes en el diccionario `diccionario_resultados`.\n",
    "\n",
    "    c. Navegue de regreso a los resultados de búsqueda.\n",
    "\n",
    "8. Cierre el navegador Chrome.\n",
    "\n",
    "El resultado final debería ser un diccionario con información sobre los primeros 5 productos encontrados durante la búsqueda en el sitio web de Decathlon, incluyendo el nombre del producto, el precio y la puntuación. Muestralo en un DataFrame similar al ves a continuación: \n",
    "\n",
    "| nombre                                             | precio    | puntuacion |\n",
    "|----------------------------------------------------|-----------|------------|\n",
    "| Camiseta Real Madrid Local Adulto Temporada 23/24  | 99,99 €   | 5/5        |\n",
    "| Camiseta térmica interior de esquí y nieve Muj... | 6,99 €    | 4.7/5      |\n",
    "| Camiseta running térmica transpirable Mujer Ki... | 19,99 €   | 4.8/5      |\n",
    "| Camiseta térmica running Mujer negra              | 14,99 €   | 4.7/5      |\n",
    "| Camiseta de fútbol Adulto Kipsta F100 roja         | 5,99 €    | 4.5/5      |\n",
    "\n"
   ]
  },
  {
   "cell_type": "code",
   "execution_count": 3,
   "metadata": {},
   "outputs": [
    {
     "name": "stdout",
     "output_type": "stream",
     "text": [
      "4.19.0\n"
     ]
    }
   ],
   "source": [
    "import selenium\n",
    "print(selenium.__version__)\n"
   ]
  },
  {
   "cell_type": "code",
   "execution_count": 6,
   "metadata": {},
   "outputs": [],
   "source": [
    "# Importar librerías para tratamiento de datos\n",
    "# -----------------------------------------------------------------------\n",
    "import pandas as pd  # Pandas es una poderosa librería para manipulación y análisis de datos en Python.\n",
    "\n",
    "# Importar librerías para web scraping y manipulación de datos\n",
    "# -----------------------------------------------------------------------\n",
    "from bs4 import BeautifulSoup\n",
    "import requests\n",
    "\n",
    "# Importar librerías para automatización de navegadores web con Selenium\n",
    "# -----------------------------------------------------------------------\n",
    "from selenium import webdriver  # Selenium es una herramienta para automatizar la interacción con navegadores web.\n",
    "from webdriver_manager.chrome import ChromeDriverManager  # ChromeDriverManager gestiona la instalación del controlador de Chrome.\n",
    "from selenium.webdriver.common.keys import Keys  # Keys es útil para simular eventos de teclado en Selenium.\n",
    "from selenium.webdriver.support.ui import Select  # Select se utiliza para interactuar con elementos <select> en páginas web.\n",
    "\n",
    "# Importar librerías para pausar la ejecución\n",
    "# -----------------------------------------------------------------------\n",
    "from time import sleep  # Sleep se utiliza para pausar la ejecución del programa por un número de segundos.\n",
    "\n",
    "# Configuraciones\n",
    "# -----------------------------------------------------------------------\n",
    "pd.set_option('display.max_columns', None)  # Establece una opción de Pandas para mostrar todas las columnas de un DataFrame.\n"
   ]
  },
  {
   "cell_type": "code",
   "execution_count": null,
   "metadata": {},
   "outputs": [],
   "source": [
    "# Inicializa el navegador Chrome\n",
    "driver = webdriver.Chrome()\n",
    "\n",
    "# Navega a la página web \"https://www.decathlon.es/\"\n",
    "driver.get(\"https://www.decathlon.es/\")\n",
    "\n",
    "# Acepta las cookies haciendo clic en el elemento con el selector CSS \"#wt-cli-accept-all-btn\"\n",
    "driver.find_element(\"css selector\", \"#wt-cli-accept-all-btn\").click()\n",
    "\n",
    "# Espera durante 5 segundos (esto puede ser útil para permitir que la página cargue completamente)\n",
    "sleep(5)\n",
    "\n",
    "# Captura una captura de pantalla de la página web actual y la guarda como \"adalab.png\"\n",
    "driver.save_screenshot('adalab.png')\n",
    "\n",
    "# Cierra el navegador\n",
    "driver.close()"
   ]
  },
  {
   "cell_type": "code",
   "execution_count": null,
   "metadata": {},
   "outputs": [],
   "source": [
    "# Inicializa el navegador Chrome\n",
    "driver = webdriver.Chrome()\n",
    "\n",
    "# Navega a la página web \"https://www.decathlon.es/\"\n",
    "driver.get(\"https://www.decathlon.es/\")\n",
    "\n",
    "driver.maximize_window() \n",
    "sleep(2)\n",
    "\n",
    "driver.find_element(\"xpath\", '//*[@id=\"didomi-notice-agree-button\"]').click()\n",
    "\n",
    "sleep(2)\n",
    "eleccion_usuario = input(\"Que quieres buscar?\")\n",
    "# Espera durante 5 segundos (esto puede ser útil para asegurarse de que la página se cargue completamente)\n",
    "sleep(5)\n",
    "\n",
    "# Busca un elemento en la página web  y pulsamos enter \n",
    "driver.find_element(\"xpath\", '//*[@id=\"search-bar\"]/div/form/input').send_keys(eleccion_usuario, Keys.ENTER)\n",
    "\n",
    "sleep(5)\n",
    "\n",
    "for i in range(1, 5):\n",
    "\n",
    "# entramos en el apartado de Sobre Data Analytics\n",
    "driver.find_element(\"link text\", 'Sobre Data Analytics').click()\n",
    "#//*[@id=\"app\"]/main/div[2]/section[2]/div/div[1]/div[3]/div[1]/div/a/img\n",
    "#//*[@id=\"app\"]/main/div[2]/section[2]/div/div[2]/div[3]/div[1]/div/a/img\n",
    "\n",
    "# cerramos el navegador\n",
    "driver.close()"
   ]
  }
 ],
 "metadata": {
  "kernelspec": {
   "display_name": "Python 3",
   "language": "python",
   "name": "python3"
  },
  "language_info": {
   "codemirror_mode": {
    "name": "ipython",
    "version": 3
   },
   "file_extension": ".py",
   "mimetype": "text/x-python",
   "name": "python",
   "nbconvert_exporter": "python",
   "pygments_lexer": "ipython3",
   "version": "3.12.2"
  }
 },
 "nbformat": 4,
 "nbformat_minor": 2
}
